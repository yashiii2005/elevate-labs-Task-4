{
 "cells": [
  {
   "cell_type": "code",
   "execution_count": 3,
   "id": "8d0b0f40-77a1-4a38-9716-42ffc4d98792",
   "metadata": {},
   "outputs": [
    {
     "name": "stdout",
     "output_type": "stream",
     "text": [
      "Requirement already satisfied: flask in c:\\users\\lenovo\\anaconda3\\lib\\site-packages (2.2.5)\n",
      "Requirement already satisfied: Werkzeug>=2.2.2 in c:\\users\\lenovo\\anaconda3\\lib\\site-packages (from flask) (2.2.3)\n",
      "Requirement already satisfied: Jinja2>=3.0 in c:\\users\\lenovo\\anaconda3\\lib\\site-packages (from flask) (3.1.3)\n",
      "Requirement already satisfied: itsdangerous>=2.0 in c:\\users\\lenovo\\anaconda3\\lib\\site-packages (from flask) (2.0.1)\n",
      "Requirement already satisfied: click>=8.0 in c:\\users\\lenovo\\anaconda3\\lib\\site-packages (from flask) (8.1.7)\n",
      "Requirement already satisfied: colorama in c:\\users\\lenovo\\anaconda3\\lib\\site-packages (from click>=8.0->flask) (0.4.6)\n",
      "Requirement already satisfied: MarkupSafe>=2.0 in c:\\users\\lenovo\\anaconda3\\lib\\site-packages (from Jinja2>=3.0->flask) (2.1.3)\n",
      "Note: you may need to restart the kernel to use updated packages.\n"
     ]
    }
   ],
   "source": [
    "pip install flask"
   ]
  },
  {
   "cell_type": "code",
   "execution_count": 8,
   "id": "d961d59a-05e5-45aa-9897-d72d000cb4f6",
   "metadata": {},
   "outputs": [],
   "source": [
    "from flask import Flask, request, jsonify, abort\n",
    "from threading import Thread"
   ]
  },
  {
   "cell_type": "code",
   "execution_count": 9,
   "id": "72da05ab-032e-4116-9791-f64c2dc113ac",
   "metadata": {},
   "outputs": [],
   "source": [
    "app = Flask(__name__)\n",
    "users = {}\n",
    "\n",
    "@app.route('/users', methods=['GET'])\n",
    "def get_users():\n",
    "    return jsonify(list(users.values())), 200\n",
    "\n",
    "@app.route('/users/<int:user_id>', methods=['GET'])\n",
    "def get_user(user_id):\n",
    "    user = users.get(user_id)\n",
    "    if user:\n",
    "        return jsonify(user), 200\n",
    "    else:\n",
    "        abort(404, description='User not found')\n",
    "\n",
    "@app.route('/users', methods=['POST'])\n",
    "def create_user():\n",
    "    data = request.get_json()\n",
    "    if not data or 'name' not in data or 'email' not in data:\n",
    "        abort(400, description='Missing user data')\n",
    "    new_id = max(users.keys(), default=0) + 1\n",
    "    user = {'id': new_id, 'name': data['name'], 'email': data['email']}\n",
    "    users[new_id] = user\n",
    "    return jsonify(user), 201\n",
    "\n",
    "@app.route('/users/<int:user_id>', methods=['PUT'])\n",
    "def update_user(user_id):\n",
    "    user = users.get(user_id)\n",
    "    if not user:\n",
    "        abort(404, description='User not found')\n",
    "    data = request.get_json()\n",
    "    if not data:\n",
    "        abort(400, description='Missing update data')\n",
    "    user['name'] = data.get('name', user['name'])\n",
    "    user['email'] = data.get('email', user['email'])\n",
    "    users[user_id] = user\n",
    "    return jsonify(user), 200\n",
    "\n",
    "@app.route('/users/<int:user_id>', methods=['DELETE'])\n",
    "def delete_user(user_id):\n",
    "    if user_id in users:\n",
    "        del users[user_id]\n",
    "        return jsonify({'message': 'User deleted'}), 200\n",
    "    else:\n",
    "        abort(404, description='User not found')"
   ]
  },
  {
   "cell_type": "code",
   "execution_count": 10,
   "id": "81f65510-40f6-45e3-8989-063f7209abf3",
   "metadata": {},
   "outputs": [],
   "source": [
    "# Step 3: Function to run Flask app in a background thread\n",
    "def run_app():\n",
    "    app.run(port=5000)"
   ]
  },
  {
   "cell_type": "code",
   "execution_count": 11,
   "id": "27df91be-da1d-4e51-aefa-17737af1167c",
   "metadata": {},
   "outputs": [
    {
     "name": "stdout",
     "output_type": "stream",
     "text": [
      " * Serving Flask app '__main__'\n",
      " * Debug mode: off\n"
     ]
    },
    {
     "name": "stderr",
     "output_type": "stream",
     "text": [
      "WARNING: This is a development server. Do not use it in a production deployment. Use a production WSGI server instead.\n",
      " * Running on http://127.0.0.1:5000\n",
      "Press CTRL+C to quit\n",
      "127.0.0.1 - - [26/Sep/2025 20:29:10] \"GET / HTTP/1.1\" 404 -\n"
     ]
    }
   ],
   "source": [
    "# Step 4: Start Flask app in a separate thread (so Jupyter doesn't block)\n",
    "thread = Thread(target=run_app)\n",
    "thread.start()"
   ]
  },
  {
   "cell_type": "code",
   "execution_count": null,
   "id": "0df38f81-751b-430f-99a0-5418c2d3fb74",
   "metadata": {},
   "outputs": [],
   "source": []
  }
 ],
 "metadata": {
  "kernelspec": {
   "display_name": "Python 3 (ipykernel)",
   "language": "python",
   "name": "python3"
  },
  "language_info": {
   "codemirror_mode": {
    "name": "ipython",
    "version": 3
   },
   "file_extension": ".py",
   "mimetype": "text/x-python",
   "name": "python",
   "nbconvert_exporter": "python",
   "pygments_lexer": "ipython3",
   "version": "3.11.7"
  }
 },
 "nbformat": 4,
 "nbformat_minor": 5
}
